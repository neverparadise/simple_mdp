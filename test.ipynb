{
 "cells": [
  {
   "cell_type": "code",
   "execution_count": 29,
   "metadata": {},
   "outputs": [],
   "source": [
    "import pygame\n",
    "from pygame import * \n",
    "import sys\n",
    "import random\n",
    "import numpy as np"
   ]
  },
  {
   "cell_type": "code",
   "execution_count": 30,
   "metadata": {},
   "outputs": [],
   "source": [
    "pygame.init()\n",
    "black = (0, 0, 0)\n",
    "white = (255, 255, 255)\n",
    "blue = (0, 0, 255)\n",
    "green = (0, 255, 0)\n",
    "red = (255, 0, 0)\n",
    "\n",
    "size = [600, 800]\n",
    "screen = pygame.display.set_mode(size)\n",
    "screen.fill(white)\n",
    "pygame.display.set_caption(\"Vokram Environment\")\n",
    "\n",
    "done = False\n",
    "clock = pygame.time.Clock()\n",
    "\n",
    "red_x = 20\n",
    "red_y = 40\n",
    "red_width = 8\n",
    "red_height = 6\n",
    "\n",
    "red_box = [red_x, red_y, red_width, red_height]"
   ]
  },
  {
   "cell_type": "code",
   "execution_count": 31,
   "metadata": {},
   "outputs": [],
   "source": [
    "while not done:\n",
    "    clock.tick(10)\n",
    "    for event in pygame.event.get():\n",
    "        if event.type == pygame.QUIT:\n",
    "            done=True\n",
    "        # elif event.type == pygame.MOUSEBUTTONDOWN:\n",
    "        #     red_x = random.choice(range(0, size[0]))\n",
    "        #     red_y = random.choice(range(0, size[1])) \n",
    "        #     red_w = random.choice(range(int(size[0] / 3),int(size[0] / 2)))\n",
    "        #     red_h = random.choice(range(int(size[1] / 3),int(size[1] / 2)))\n",
    "        #     red_box = [red_x, red_y, red_w, red_h]\n",
    "        #     print(red_box)\n",
    "        pygame.draw.rect(screen, red, red_box)\n",
    "        pygame.draw.rect(screen, black, [15, 10, 30, 20])\n",
    "        screen.fill(white)\n",
    "        display.update()\n",
    "        pygame.display.flip()\n",
    "\n",
    "pygame.quit()"
   ]
  },
  {
   "cell_type": "code",
   "execution_count": 26,
   "metadata": {},
   "outputs": [],
   "source": []
  },
  {
   "cell_type": "code",
   "execution_count": 28,
   "metadata": {},
   "outputs": [
    {
     "ename": "SystemExit",
     "evalue": "",
     "output_type": "error",
     "traceback": [
      "An exception has occurred, use %tb to see the full traceback.\n",
      "\u001b[1;31mSystemExit\u001b[0m\n"
     ]
    }
   ],
   "source": []
  },
  {
   "cell_type": "code",
   "execution_count": null,
   "metadata": {},
   "outputs": [],
   "source": []
  }
 ],
 "metadata": {
  "kernelspec": {
   "display_name": "Python 3.7.11 ('minerl')",
   "language": "python",
   "name": "python3"
  },
  "language_info": {
   "codemirror_mode": {
    "name": "ipython",
    "version": 3
   },
   "file_extension": ".py",
   "mimetype": "text/x-python",
   "name": "python",
   "nbconvert_exporter": "python",
   "pygments_lexer": "ipython3",
   "version": "3.7.11"
  },
  "orig_nbformat": 4,
  "vscode": {
   "interpreter": {
    "hash": "266dbc1b53b3a75132c42213de358c469c42e7e8486df6091cb08cba7b9be0d5"
   }
  }
 },
 "nbformat": 4,
 "nbformat_minor": 2
}
